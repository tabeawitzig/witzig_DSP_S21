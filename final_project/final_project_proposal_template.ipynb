{
 "cells": [
  {
   "cell_type": "markdown",
   "id": "advisory-printing",
   "metadata": {},
   "source": [
    "## Final Project Proposal"
   ]
  },
  {
   "cell_type": "markdown",
   "id": "swedish-initial",
   "metadata": {},
   "source": [
    "#### Name: Tabea Witzig"
   ]
  },
  {
   "cell_type": "markdown",
   "id": "occupied-marshall",
   "metadata": {},
   "source": [
    "#### Brief description of the dataset:\n",
    "\n",
    "Write one paragraph describing overall what the dataset is about.\n",
    "> The dataset is from a study over a sample of 80 patients and 20 therapists. The therapists adopt a manual for GAS and the therapists adherence to the manual is measured. also anxity levels of the patients and alliance ratings over the course of the therapy. There is also a treatment condition ABAB for each therapist. "
   ]
  },
  {
   "cell_type": "markdown",
   "id": "aggregate-parameter",
   "metadata": {},
   "source": [
    "#### Dataset questions:\n",
    "-\tWhere did you obtain the dataset from? \n",
    "\n",
    "> from my master thesis\n",
    "\n",
    "-\tHow many observations are there? \n",
    "\n",
    "> it depends, i have several data frames. they overall include information about 80 patients (nested in 20 therapists) and 3-5 timepoints. I have demographic informations, questionnaires, process evaluation and adherence rating from the therapists. \n",
    "\n",
    "-\tHow many variables are there?  \n",
    "\n",
    "> a lot, for each questionnaire there are singel scales\n",
    "\n",
    "-\tAre there multiple observations for the same units (e.g. multiple measurements of RTs per participant? Multiple evaluations per employee? etc) \n",
    "\n",
    "> Yes, there are repeated measurements "
   ]
  },
  {
   "cell_type": "markdown",
   "id": "entire-shopper",
   "metadata": {},
   "source": [
    "#### Project goals:\n",
    "\n",
    "Briefly describe what questions would you like to address with this project. What are your dependent and independent variables? \n",
    "\n",
    "> I want to predict the outcome of a CBT for patients with GAS. The dependent variable are outcome scores for anxitey symptomes (eg PSWQ, BAI etc) and the independent variables are alliance rating(eg WAI/BPSB), adherence rating, pre-conditions (eg comorbidities, GAS duration etc) "
   ]
  },
  {
   "cell_type": "markdown",
   "id": "unable-relationship",
   "metadata": {},
   "source": [
    "#### Project methods:\n",
    "Briefly describe what methods you plan to use to answer the project goals. These have to be based on the syllabus for the remaining of the course and/or the main textbook we are using. This is not a final commitment and you can change your plan as you progress, but describe here your current ideas and plans (briefly!) \n",
    "\n",
    "> I was thinking of a multiple regression, maybe involve a level for time and therapists effects."
   ]
  },
  {
   "cell_type": "markdown",
   "id": "mathematical-lingerie",
   "metadata": {},
   "source": [
    "#### Evaluation\n",
    "\n",
    "> [VP] Approved"
   ]
  }
 ],
 "metadata": {
  "kernelspec": {
   "display_name": "R",
   "language": "R",
   "name": "ir"
  },
  "language_info": {
   "codemirror_mode": "r",
   "file_extension": ".r",
   "mimetype": "text/x-r-source",
   "name": "R",
   "pygments_lexer": "r",
   "version": "4.0.4"
  }
 },
 "nbformat": 4,
 "nbformat_minor": 5
}
