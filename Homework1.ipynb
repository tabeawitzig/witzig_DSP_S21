{
 "cells": [
  {
   "cell_type": "markdown",
   "id": "recreational-insert",
   "metadata": {},
   "source": [
    "I'm integrating text, code and figures in a single document!"
   ]
  },
  {
   "cell_type": "code",
   "execution_count": null,
   "id": "tamil-survivor",
   "metadata": {},
   "outputs": [],
   "source": [
    "x <- rnorm(1000)\n",
    "y <- x**2+rnorm(1000,0,0.3)\n",
    "plot(x,y)"
   ]
  },
  {
   "cell_type": "code",
   "execution_count": null,
   "id": "wrong-architecture",
   "metadata": {},
   "outputs": [],
   "source": []
  }
 ],
 "metadata": {
  "kernelspec": {
   "display_name": "R",
   "language": "R",
   "name": "ir"
  }
 },
 "nbformat": 4,
 "nbformat_minor": 5
}
